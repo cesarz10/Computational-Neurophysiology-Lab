{
 "cells": [
  {
   "cell_type": "markdown",
   "metadata": {
    "tags": []
   },
   "source": [
    "# Lab Session #1\n",
    "## Computational Neurophysiology [E010620A]\n",
    "### Dept of Electronics and Informatics (VUB) and Dept of Information Technology (UGent)\n",
    "Jorne Laton, Lloyd Plumart, Talis Vertriest, Jeroen Van Schependom, Sarah Verhulst"
   ]
  },
  {
   "cell_type": "markdown",
   "metadata": {},
   "source": [
    "<font color=blue>Student names and IDs:</font> \n",
    "César Zapata - 02213600, \n",
    "<br>\n",
    "<font color=blue>Academic Year:</font> 2022-2023"
   ]
  },
  {
   "cell_type": "markdown",
   "metadata": {
    "tags": []
   },
   "source": [
    "### General Introduction\n",
    "In all the practical sessions of this course we will use python 3 and jupyter notebooks. Install Anaconda on your computer and open jupyter notebook by typing \"jupyter notebook\" or \"jupyter lab\" in the command line. Your browser will open a file explorer, from where you can navigate to the exercise.\n",
    "\n",
    "The lab sessions consist of a jupyter notebook in which the different steps are described and explained, together with the tasks you are asked to complete.\n",
    "\n",
    "You will form groups of two and submit one report per group. Reports should be formatted according to the guiding document. Make sure your answers stand out in the final submitted document!\n",
    "\n",
    "Deadline: 2 weeks after lecture. Reports submitted after the deadline will not be graded."
   ]
  },
  {
   "cell_type": "markdown",
   "metadata": {
    "tags": []
   },
   "source": [
    "### Context and Goals\n",
    "This lab session is focused on the Hodgkin-Huxley (HH) model, following and reproducing the theoretical chapter that can be found here: https://neuronaldynamics.epfl.ch/online/Ch2.S2.html. You will be asked to complete code scripts, make observations and explain the results of the different simulations, and contextualise the analyses with the HH model theoretical background.\n"
   ]
  },
  {
   "cell_type": "markdown",
   "metadata": {},
   "source": [
    "# Questions\n",
    "## Part 1: Hodgkin-Huxley model equations\n",
    "### Q1.1 HH equations <a id=\"Q1.1\"/>\n",
    "We are coding the HH equations by a single or by multiple functions, to reproduce the behaviour of a human pyramidal neuron when excited. This will be the function to be made to perform the HH model is the following: \n",
    "\n",
    "`\n",
    "m, h, n, V, INa, IK, alpha_m, alpha_n, alpha_h, beta_m, beta_n, beta_h = HH_model(T, I_input, dt)\n",
    "`\n",
    "\n",
    "The inputs are:\n",
    "1. `T` -> Time window of simulation [ms]\n",
    "2. `I_input` -> input current [µA]\n",
    "3. `dt` -> the rate of update [ms]\n",
    "\n",
    "The outputs are: \n",
    "1. `V` -> the voltage of neuron [mV]\n",
    "2. `m` -> activation variable for Na-current [u/cm^2]\n",
    "3. `h` -> inactivation variable for Na-current [u/cm^2]\n",
    "4. `n` -> activation variable for K-current [u/cm^2]\n",
    "5. `t` -> the time axis of the simulation (useful for plotting) [ms]\n",
    "6. `I_Na` -> Na current [µA/cm^2]\n",
    "7. `I_K` -> K current [µA/cm^2]\n",
    "8. `alpha_m, beta_m, alpha_n, beta_n, alpha_h, beta_h` -> gating parameters [1/ms]\n",
    "\n",
    "You can use the functions that are already provided to retrieve some parameters. To complete the code, you can find the equations and parameter values in https://neuronaldynamics.epfl.ch/online/Ch2.S2.html.\n",
    "\n",
    "Q1.1a Implement the update equations of the gating variables m, n and h as described in Table 2.1 of the online version of the book and reproduce Figure 2.3.\n",
    "\n",
    "Q1.1b Make the plots and describe in your own words what you have plotted.\n",
    "\n",
    "Q1.1c Unfortunately, when simulating the HH model with these parameters, you will not get a K-current. Please adjust (u-25) by (u+25) in the update equations for gating variable $n$.\n",
    "\n",
    "* [Import these modules](#P1_imports)\n",
    "\n",
    "* [Fill in answers here](#A1.1)"
   ]
  },
  {
   "cell_type": "markdown",
   "metadata": {},
   "source": [
    "### Q1.2 Simulate the response to an impulse current <a id=\"Q1.2\"/>\n",
    "To try out whether the designed functions work, design a step function (A1.2a) that can be used to model the current input (A1.2b). Consider the following design parameters:\n",
    "\n",
    "1. `I_input function` -> step function \n",
    "2. `T` -> time of simulation: 100 ms\n",
    "3. `dt` -> update time: 0.01 ms\n",
    "4. Current impulse `I_input`: 20 µA between 1 and 2 ms.\n",
    "\n",
    "* [Fill in answers here](#A1.2)"
   ]
  },
  {
   "cell_type": "markdown",
   "metadata": {
    "tags": []
   },
   "source": [
    "### Q1.3. Plot V(t) <a id=\"Q1.3\"/>\n",
    "Plot the first 20 ms of $V(t)$.\n",
    "\n",
    "Describe the dynamics of the neural voltage $V$.\n",
    "Does it make sense?\n",
    "\n",
    "* [Fill in answers here](#A1.3)"
   ]
  },
  {
   "cell_type": "markdown",
   "metadata": {},
   "source": [
    "### Q1.4 Plot the model parameters <a id=\"Q1.4\"/>\n",
    "Plot the model parameters n, m and h in function of t and again limit the plots to the first 20 ms. Describe the dynamics of the model parameters m, n, and h. Does it make sense? Describe how the gates swing open and closed during the dynamics of a spike.\n",
    "* [Fill in answers here](#A1.4)"
   ]
  },
  {
   "cell_type": "markdown",
   "metadata": {},
   "source": [
    "### Q1.5. Plot I_Na and I_K <a id=\"Q1.5\"/>\n",
    "Plot I_Na and I_K in function of t (again only the first 20 ms).\n",
    "\n",
    "Describe the dynamics of the currents. Does it make sense? Describe the currents flows during a spike.\n",
    "\n",
    "* [Fill in answers here](#A1.5)"
   ]
  },
  {
   "cell_type": "markdown",
   "metadata": {},
   "source": [
    "### Q1.6. Plot the conductances g_Na and g_K <a id=\"Q1.6\"/>\n",
    "Plot the conductances g_Na, g_K in function of t (again only the first 20 ms).\n",
    "\n",
    "How are the conductances evolving during a spike?\n",
    "\n",
    "* [Fill in answers here](#A1.6)"
   ]
  },
  {
   "cell_type": "markdown",
   "metadata": {},
   "source": [
    "## Part 2: Package BRIAN"
   ]
  },
  {
   "cell_type": "markdown",
   "metadata": {},
   "source": [
    "In the second part of the practical, you are going to use the Brian library to simulate the dynamics of a squid neuron when excited. To learn more about this module, read this paper: https://pubmed.ncbi.nlm.nih.gov/19115011/ . \n",
    "Before starting, the Brian module must be installed, together with the neurodynex3 module. Open the anaconda prompt, and install the brian2 package:\n",
    "\n",
    "`conda install -c conda-forge brian2`\n",
    "\n",
    "and then the neurodynex3 package:\n",
    "\n",
    "`pip install neurodynex3`\n",
    "\n",
    "### Note\n",
    "If you are working on Linux or one of the newest mac OS systems, you might check whether your pip command is actually pip3.  \n",
    "\n",
    "After installing, the packages are ready to use! If you need more information about the modules, you can find it here https://briansimulator.org/.\n",
    "\n",
    "* [Import these modules](#P2_imports)"
   ]
  },
  {
   "cell_type": "markdown",
   "metadata": {},
   "source": [
    "### Q2.1 Step current response <a id=\"Q2.1\"/>\n",
    "We study the response of a Hodgkin-Huxley squid neuron to different input currents. \n",
    "\n",
    "Have a look at the documentation of the functions `HH.simulate_HH_neuron()` and `HH.plot_data()` and the module `neurodynex3.tools.input_factory`.\n",
    "\n",
    "By using the mentioned functions, code the following steps: \n",
    "1. Step function for the input current \n",
    "2. Run the HH simulation (for 300ms)\n",
    "3. Plot the results of this simulation \n",
    "\n",
    "Vary the amplitude of the input current between 0.1 and 50 µA between 50 and 250ms.\n",
    "Describe the different dynamics of the spiking neuron. \n",
    "\n",
    "What is the lowest step current amplitude to generate a spike or to generate repetitive firing?\n",
    "Discuss the difference between the two regimes.\n",
    "\n",
    "* [Fill in answer here](#A2.1)"
   ]
  },
  {
   "cell_type": "markdown",
   "metadata": {},
   "source": [
    "### Q2.2 Slow and fast ramp current\n",
    "The minimal current to elicit a spike does not just depend on the amplitude I or on the total charge Q of the current, but on the “shape” of the current. Let’s investigate why."
   ]
  },
  {
   "cell_type": "markdown",
   "metadata": {},
   "source": [
    "#### Q2.2.1 Slow ramp current <a id=\"Q2.2.1\"/>\n",
    "Inject a slow ramp current into a HH neuron. The current is 0 µA at t = 0 and starts at 5 ms, linearly increasing to an amplitude of 14.0 µA at t = t_ramp_end. At t > t_ramp_end, the current is set back to 0 µA. \n",
    "A slow ramp duration could be between 30-100 ms.\n",
    "\n",
    "Experiment with different t_ramp_end values to discover the maximal duration of a ramp, such that the neuron does not spike. Make sure you simulate for at least 20ms after t_ramp_end.\n",
    "\n",
    "Q2.2.1a Use the function `HH.plot_data()` to visualize the dynamics of the system.\n",
    "\n",
    "Q2.2.1b What is the membrane voltage at the time when the current injection stops (t=slow_ramp_t_end)?\n",
    "\n",
    "* [Fill in answers here](#A2.2.1)"
   ]
  },
  {
   "cell_type": "markdown",
   "metadata": {},
   "source": [
    "#### Q2.2.2 Fast ramp current <a id=\"Q2.2.2\"/>\n",
    "Q2.2.2a Do the same as before but this time for a fast ramp current. Start the linearly increasing input current again at t = 5 ms. The amplitude at t = t_ramp_end is 5.0 µA. Start with a duration of 5 ms and then increase the ramp duration it until no spike occurs.\n",
    "Use the function `HH.plot_data()` to visualize the dynamics of the system.\n",
    "\n",
    "Q2.2.2b What is the membrane voltage at the time when the current injection stops (t=slow_ramp_t_end)?\n",
    "\n",
    "* [Fill in answers here](#A2.2.2)"
   ]
  },
  {
   "cell_type": "markdown",
   "metadata": {},
   "source": [
    "#### Q2.2.3. Differences <a id=\"Q2.2.3\"/>\n",
    "Discuss the differences between the two situations. Why are the two “threshold” voltages different? Link your observation to the gating variables m, n and h.\n",
    "\n",
    "Hint: have a look at Chapter 2, Figure 2.3.\n",
    "\n",
    "* [Fill in answers here](#A2.2.3)"
   ]
  },
  {
   "cell_type": "markdown",
   "metadata": {
    "jp-MarkdownHeadingCollapsed": true,
    "tags": []
   },
   "source": [
    "### Q2.3 Rebound Spike <a id=\"Q2.3\"/>\n",
    "A HH neuron can spike not only if it receives a sufficiently strong depolarizing input current but also after a hyperpolarizing current. Such a spike is called a rebound spike.\n",
    "\n",
    "Inject a hyperpolarizing step current I_input = -1 µA for a duration of 25 ms into the HH neuron. Simulate the neuron for 50 ms and plot the voltage trace and the gating variables. Repeat the simulation with I_input = -5 µA. What is happening here? To which gating variable do you attribute this rebound spike?\n",
    "\n",
    "It may be difficult to to see which gating parameter is responsible for depolarisation (and a possible consequent rebound spike) after a negative current injection. Therefore, also plot the real ratio of n and m, together with the effect of h and use this plot to answer the above question.\n",
    "\n",
    "* [Fill in answers here](#A2.3)"
   ]
  },
  {
   "cell_type": "markdown",
   "metadata": {
    "tags": []
   },
   "source": [
    "# Answers"
   ]
  },
  {
   "cell_type": "markdown",
   "metadata": {
    "tags": []
   },
   "source": [
    "## Part 1: Hodgkin-Huxley model equations"
   ]
  },
  {
   "cell_type": "markdown",
   "metadata": {
    "tags": []
   },
   "source": [
    "### Imports <a id=\"P1_imports\"/>"
   ]
  },
  {
   "cell_type": "code",
   "execution_count": 1,
   "metadata": {
    "tags": []
   },
   "outputs": [],
   "source": [
    "# Import and add all the libraries you need throughout the code\n",
    "\n",
    "import math as m\n",
    "import numpy as np\n",
    "import matplotlib.pyplot as plt\n",
    "\n",
    "# Make your graphs colorblind-friendly\n",
    "plt.style.use('tableau-colorblind10')"
   ]
  },
  {
   "cell_type": "markdown",
   "metadata": {
    "jp-MarkdownHeadingCollapsed": true,
    "tags": []
   },
   "source": [
    "### A1.1: HH Equations <a id=\"A1.1\"/>\n",
    "* [Go back to Q1.1](#Q1.1) "
   ]
  },
  {
   "cell_type": "code",
   "execution_count": 3,
   "metadata": {
    "tags": []
   },
   "outputs": [],
   "source": [
    "# A1.1a Enter your code at the bottom of this cell\n",
    "\n",
    "# Use the following variable names:\n",
    "\n",
    "#T = 100 #ms. Given        D\n",
    "#I_input                   D\n",
    "#dt # given                D\n",
    "#alpha_m                   D\n",
    "#beta_m                    D\n",
    "#alpha_n                   D\n",
    "#beta_n                    D\n",
    "#alpha_h                   D\n",
    "#beta_h                    D\n",
    "#m                         D\n",
    "#h                         D\n",
    "#n                         D\n",
    "#V                         D\n",
    "#t                         D\n",
    "#I_Na                      D\n",
    "#I_K                       D\n",
    "#I_L                       D\n",
    "\n",
    "# Hints:\n",
    "# Reversal potentials have unit mV\n",
    "# Constant conductances have unit mS/cm2\n",
    "    \n",
    "# Hint: complete the following functions:\n",
    "\n",
    "\n",
    "def gating_variable_m(u):\n",
    "    beta_m = (-0.124 * (u+35)) / (1 - m.e ** ( (u+35) / 9) )\n",
    "    alpha_m = (0.182 * (u+35)) / (1 - m.e ** (-(u+35) / 9) )\n",
    "    \n",
    "    return alpha_m,beta_m\n",
    "\n",
    "\n",
    "def gating_variable_n(u):\n",
    "    beta_n = (-0.002 * (u-25)) / (1 - m.e ** ( (u-25) / 9) )\n",
    "    alpha_n = (0.02 * (u-25)) / (1 - m.e ** (-(u-25) / 9) )\n",
    "    \n",
    "    return alpha_n, beta_n\n",
    "\n",
    "\n",
    "def gating_variable_h(u):\n",
    "    beta_h = 0.25 * (m.e ** ((u+62) / 6)) / ((m.e ** (u+90)) / 12)\n",
    "    alpha_h = 0.25 * (m.e ** (-(u+90) / 12) )\n",
    "    \n",
    "    return alpha_h, beta_h\n",
    "\n",
    "\n",
    "def HH_model(T, I_input, dt):\n",
    "    \n",
    "    u = -65 #(mV) -> membrane resting potential (in this case it is a fixed voltage)\n",
    "    \n",
    "    # gating vatiables for m\n",
    "    alpha_m, beta_m = gating_variable_m(u)\n",
    "    \n",
    "    # gating vatiables for n\n",
    "    alpha_n, beta_n = gating_variable_n(u)\n",
    "    \n",
    "    # gating vatiables for h\n",
    "    alpha_h, beta_h = gating_variable_h(u)\n",
    "    \n",
    "    \n",
    "    # Table 2.1 in the document. Parameters for conductance and reverse potentials\n",
    "    g_Na = 40 #(ms/cm2)\n",
    "    E_Na = 55 #(mV)    \n",
    "    g_K = 35 #(ms/cm2)\n",
    "    E_K = -77 #(mV)\n",
    "    g_L = 0.3 #(ms/cm2)\n",
    "    E_L = -65 #(mV)\n",
    "    C_m = 1 #(uF/cm2)\n",
    "    \n",
    "    \n",
    "    # Under equation 2.9 in the document. Equations for x_0\n",
    "    m_0 = (alpha_m) / (alpha_m + beta_m)\n",
    "    n_0 = (alpha_n) / (alpha_n + beta_n)\n",
    "    h_0 = (alpha_h) / (alpha_h + beta_h)\n",
    "    \n",
    "    \n",
    "    # Under equation 2.9 in the document. Equations for Tau_x\n",
    "    T_m = 1 / (alpha_m + beta_m)\n",
    "    T_n = 1 / (alpha_n + beta_n)\n",
    "    T_h = 1 / (alpha_h + beta_h)\n",
    "\n",
    "\n",
    "    # Equations 2.7 and 2.8. Values for m, n, h\n",
    "    m = -(1 / (T_m)) * (m - m_0)\n",
    "    n = -(1 / (T_n)) * (n - n_0)\n",
    "    h = -(1 / (T_h)) * (h - h_0)\n",
    "\n",
    "\n",
    "    # Equation 2.5. Current values for Na, K, and leak\n",
    "    I_Na = (g_Na * (m**3) * h * (u - E_Na))\n",
    "    I_K = (g_K * (n**4) * (u - E_K))\n",
    "    I_L = (g_L * (u - E_L))\n",
    "    sum_I = I_Na + I_K + I_L\n",
    "\n",
    "        \n",
    "    t = np.arange(0, T, dt)  # time axis of the simulation\n",
    "    \n",
    "    # I(t) = I_c + I_ions -> sum of Ions' I\n",
    "    I_c = I_input - sum_I\n",
    "\n",
    "    # du_dt = (u1 - u0) / dt\n",
    "    V = (dt * I_c) + u\n",
    "        \n",
    "    return m, h, n, V, t, I_Na, I_K, I_L, alpha_m, alpha_n, alpha_h, beta_m, beta_n, beta_h\n",
    "                             \n",
    "        \n",
    "##################################\n",
    "##   A1.1a solutions functions   ##\n",
    "##################################\n"
   ]
  },
  {
   "cell_type": "code",
   "execution_count": 3,
   "metadata": {
    "tags": []
   },
   "outputs": [],
   "source": [
    "# A1.1b Plot your graph below\n",
    "\n",
    "# Hint: the first graph plots rate constants (n, m and h in function of membrane voltage)\n",
    "# Hint: the second graph plots the voltage dependent time constants (tau_n, tau_m and tau_h in function of membrane voltage)\n",
    "\n",
    "plt.figure(1)\n",
    "plt.plot(n,  )\n",
    "\n",
    "# What is your conclusion?\n",
    "\n",
    "##############################\n",
    "##   A1.1b plots   ##\n",
    "##############################\n",
    "    \n",
    "\n",
    "#########################\n",
    "##   A1.1b conclusion   ##\n",
    "#########################\n",
    "\n",
    "# Answer in green box below\n"
   ]
  },
  {
   "attachments": {},
   "cell_type": "markdown",
   "metadata": {},
   "source": [
    "<div class=\"alert alert-success\">\n",
    "<span style=\"color:black\">\n",
    "    \n",
    "**A1.1b conclusion** \n",
    "\n",
    "    \n",
    "Your answer here\n",
    "\n",
    "\n",
    "</span>"
   ]
  },
  {
   "cell_type": "code",
   "execution_count": 4,
   "metadata": {
    "tags": []
   },
   "outputs": [],
   "source": [
    "# A1.1c Enter the updated HH model here\n",
    "\n",
    "########################################\n",
    "##   A1.1c updated HH model solution   ##\n",
    "########################################\n",
    "                       \n"
   ]
  },
  {
   "cell_type": "markdown",
   "metadata": {
    "jp-MarkdownHeadingCollapsed": true,
    "tags": []
   },
   "source": [
    "### A1.2: Response simulation <a id=\"A1.2\"/>\n",
    "* [Go back to Q1.2](#Q1.2) "
   ]
  },
  {
   "cell_type": "code",
   "execution_count": 5,
   "metadata": {
    "tags": []
   },
   "outputs": [],
   "source": [
    "# A1.2a Set up and plot your input current\n",
    "\n",
    "######################################\n",
    "##   A1.2a solutions input current   ##\n",
    "######################################\n"
   ]
  },
  {
   "cell_type": "code",
   "execution_count": 6,
   "metadata": {
    "tags": []
   },
   "outputs": [],
   "source": [
    "# A1.2b Insert the input current into your HH_model function\n",
    "\n",
    "#######################################\n",
    "##   A1.2b insert input in HH_model   ##\n",
    "#######################################\n"
   ]
  },
  {
   "cell_type": "markdown",
   "metadata": {
    "jp-MarkdownHeadingCollapsed": true,
    "tags": []
   },
   "source": [
    "### A1.3: Plot V(t) <a id=\"A1.3\"/>\n",
    "* [Go back to Q1.3](#Q1.3) "
   ]
  },
  {
   "cell_type": "code",
   "execution_count": 7,
   "metadata": {
    "tags": []
   },
   "outputs": [],
   "source": [
    "# A1.3a Enter your answer below\n",
    "\n",
    "###########################\n",
    "##   A1.3a solution plot  ##\n",
    "###########################\n",
    "\n"
   ]
  },
  {
   "cell_type": "code",
   "execution_count": 8,
   "metadata": {
    "tags": []
   },
   "outputs": [],
   "source": [
    "# A1.3b Enter your interpretation and conclusion below\n",
    "\n",
    "#########################\n",
    "##   A1.3b conclusion   ##\n",
    "#########################\n",
    "\n",
    "# Answer in green box below"
   ]
  },
  {
   "attachments": {},
   "cell_type": "markdown",
   "metadata": {},
   "source": [
    "<div class=\"alert alert-success\">\n",
    "<span style=\"color:black\">\n",
    "    \n",
    "**A1.3b conclusion** \n",
    "\n",
    "    \n",
    "Your answer here\n",
    "\n",
    "    \n",
    "</span>"
   ]
  },
  {
   "cell_type": "markdown",
   "metadata": {
    "jp-MarkdownHeadingCollapsed": true,
    "tags": []
   },
   "source": [
    "### A1.4: Plot the model parameters <a id=\"A1.4\"/>\n",
    "* [Go back to Q1.4](#Q1.4) "
   ]
  },
  {
   "cell_type": "code",
   "execution_count": 9,
   "metadata": {
    "tags": []
   },
   "outputs": [],
   "source": [
    "# A1.4a Plot your graph below\n",
    "\n",
    "############################\n",
    "##   A1.4a solution plot   ##\n",
    "############################\n",
    "\n"
   ]
  },
  {
   "cell_type": "code",
   "execution_count": 10,
   "metadata": {
    "tags": []
   },
   "outputs": [],
   "source": [
    "# A1.4b Enter your interpretation and conclusion answer below\n",
    "\n",
    "#########################\n",
    "##   A1.4b conclusion   ##\n",
    "#########################\n",
    "\n",
    "# Answer in green box below"
   ]
  },
  {
   "attachments": {},
   "cell_type": "markdown",
   "metadata": {},
   "source": [
    "<div class=\"alert alert-success\">\n",
    "<span style=\"color:black\">\n",
    "    \n",
    "**A1.4b conclusion** \n",
    "    \n",
    "    \n",
    "Your answer here\n",
    "\n",
    "    \n",
    "</span>"
   ]
  },
  {
   "cell_type": "markdown",
   "metadata": {
    "jp-MarkdownHeadingCollapsed": true,
    "tags": []
   },
   "source": [
    "### A1.5: Plot I_Na and I_K <a id=\"A1.5\"/>\n",
    "* [Go back to Q1.5](#Q1.5)"
   ]
  },
  {
   "cell_type": "code",
   "execution_count": 11,
   "metadata": {},
   "outputs": [],
   "source": [
    "# A1.5a Plot your graph here\n",
    "\n",
    "############################\n",
    "##   A1.5a plot   ##\n",
    "############################\n"
   ]
  },
  {
   "cell_type": "code",
   "execution_count": 12,
   "metadata": {},
   "outputs": [],
   "source": [
    "# A1.5b Enter your interpretation and conclusion\n",
    "\n",
    "#########################\n",
    "##   A1.5b conclusion   ##\n",
    "#########################\n",
    "\n",
    "# Answer in green box below"
   ]
  },
  {
   "attachments": {},
   "cell_type": "markdown",
   "metadata": {},
   "source": [
    "<div class=\"alert alert-success\">\n",
    "<span style=\"color:black\">\n",
    "    \n",
    "**A1.5b conclusion** \n",
    "    \n",
    "    \n",
    "Your answer here\n",
    "\n",
    "    \n",
    "</span>"
   ]
  },
  {
   "cell_type": "markdown",
   "metadata": {
    "jp-MarkdownHeadingCollapsed": true,
    "tags": []
   },
   "source": [
    "### A1.6: Plot the conductances g_Na and g_K <a id=\"A1.6\"/>\n",
    "* [Go back to Q1.6](#Q1.6) "
   ]
  },
  {
   "cell_type": "code",
   "execution_count": 13,
   "metadata": {},
   "outputs": [],
   "source": [
    "# A1.6a Enter your code and plot\n",
    "\n",
    "###########################\n",
    "##   A1.6a solution plot  ##\n",
    "###########################\n"
   ]
  },
  {
   "cell_type": "code",
   "execution_count": 14,
   "metadata": {},
   "outputs": [],
   "source": [
    "# A1.6b Enter your interpretation and conclusion\n",
    "\n",
    "#########################\n",
    "##   A1.6b conclusion   ##\n",
    "#########################\n",
    "\n",
    "# Answer in green box below"
   ]
  },
  {
   "attachments": {},
   "cell_type": "markdown",
   "metadata": {},
   "source": [
    "<div class=\"alert alert-success\">\n",
    "<span style=\"color:black\">\n",
    "    \n",
    "**A1.6b conclusion** \n",
    "    \n",
    "    \n",
    "Your answer here\n",
    "\n",
    "    \n",
    "</span>"
   ]
  },
  {
   "cell_type": "markdown",
   "metadata": {
    "tags": []
   },
   "source": [
    "## Part 2: Package BRIAN"
   ]
  },
  {
   "cell_type": "markdown",
   "metadata": {
    "jp-MarkdownHeadingCollapsed": true,
    "tags": []
   },
   "source": [
    "### Import <a id=\"P2_imports\"/>"
   ]
  },
  {
   "cell_type": "code",
   "execution_count": 15,
   "metadata": {},
   "outputs": [],
   "source": [
    "# The new libraries we need to add\n",
    "\n",
    "%matplotlib inline\n",
    "import brian2 as b2\n",
    "import matplotlib.pyplot as plt\n",
    "import numpy as np\n",
    "from neurodynex3.hodgkin_huxley import HH\n",
    "from neurodynex3.tools import input_factory\n"
   ]
  },
  {
   "cell_type": "markdown",
   "metadata": {
    "jp-MarkdownHeadingCollapsed": true,
    "tags": []
   },
   "source": [
    "### A2.1 Step current response <a id=\"A2.1\"/>\n",
    "* [Go back to Q2.1](#Q2.1) "
   ]
  },
  {
   "cell_type": "code",
   "execution_count": 16,
   "metadata": {
    "scrolled": false
   },
   "outputs": [],
   "source": [
    "# A2.1a Enter your answer below\n",
    "\n",
    "# Hint: The unit of the I_input current in the neurodynex3.hodgkin_huxley module is µA (coded b2.uA)\n",
    "\n",
    "########################\n",
    "##   Q2.1. solution   ##\n",
    "########################\n"
   ]
  },
  {
   "cell_type": "code",
   "execution_count": 17,
   "metadata": {},
   "outputs": [],
   "source": [
    "# Enter your conclusion and interpretation\n",
    "\n",
    "##########################\n",
    "##   Q2.1. conclusion   ##\n",
    "##########################\n",
    "\n",
    "\n",
    "# Answer in green box below"
   ]
  },
  {
   "cell_type": "markdown",
   "metadata": {},
   "source": [
    "<div class=\"alert alert-success\">\n",
    "<span style=\"color:black\">\n",
    "    \n",
    "**A2.1 conclusion** \n",
    "    \n",
    "\\begin{tcolorbox}[colback=green!5]\n",
    "    \n",
    "Your answer here\n",
    "\n",
    "\\end{tcolorbox}\n",
    "    \n",
    "</span>"
   ]
  },
  {
   "cell_type": "markdown",
   "metadata": {
    "jp-MarkdownHeadingCollapsed": true,
    "tags": []
   },
   "source": [
    "### A2.2.1 Slow ramp current <a id=\"A2.2.1\"/>\n",
    "* [Go back to Q2.2.1](#Q2.2.1) "
   ]
  },
  {
   "cell_type": "code",
   "execution_count": 18,
   "metadata": {},
   "outputs": [],
   "source": [
    "# Enter your code below\n",
    "\n",
    "#########################\n",
    "##   Q2.2.1a solution   ##\n",
    "#########################\n",
    "\n"
   ]
  },
  {
   "cell_type": "code",
   "execution_count": 19,
   "metadata": {},
   "outputs": [],
   "source": [
    "###########################\n",
    "##   Q2.2.1a conclusion   ##\n",
    "###########################\n",
    "\n",
    "\n",
    "# Answer in green box below"
   ]
  },
  {
   "cell_type": "markdown",
   "metadata": {},
   "source": [
    "<div class=\"alert alert-success\">\n",
    "<span style=\"color:black\">\n",
    "    \n",
    "**A2.2.1a conclusion** \n",
    "    \n",
    "\\begin{tcolorbox}[colback=green!5]\n",
    "    \n",
    "Your answer here\n",
    "\n",
    "\\end{tcolorbox}\n",
    "    \n",
    "</span>"
   ]
  },
  {
   "cell_type": "code",
   "execution_count": 20,
   "metadata": {},
   "outputs": [],
   "source": [
    "# Enter your code and answer below\n",
    "\n",
    "###########################\n",
    "##   Q2.2.1b solution    ##\n",
    "###########################\n",
    "    "
   ]
  },
  {
   "cell_type": "code",
   "execution_count": 21,
   "metadata": {},
   "outputs": [],
   "source": [
    "# Enter your answer below\n",
    "\n",
    "###########################\n",
    "##   Q2.2.1b answer      ##\n",
    "###########################\n",
    "\n",
    "    \n",
    "# Answer in green box below"
   ]
  },
  {
   "cell_type": "markdown",
   "metadata": {},
   "source": [
    "<div class=\"alert alert-success\">\n",
    "<span style=\"color:black\">\n",
    "    \n",
    "**A2.2.1b conclusion** \n",
    "    \n",
    "\\begin{tcolorbox}[colback=green!5]\n",
    "    \n",
    "Your answer here\n",
    "\n",
    "\\end{tcolorbox}\n",
    "</span>"
   ]
  },
  {
   "cell_type": "markdown",
   "metadata": {
    "jp-MarkdownHeadingCollapsed": true,
    "tags": []
   },
   "source": [
    "### A2.2.2 Fast ramp current <a id=\"A2.2.2\"/>\n",
    "* [Go back to Q2.2.2](#Q2.2.2) "
   ]
  },
  {
   "cell_type": "code",
   "execution_count": 22,
   "metadata": {},
   "outputs": [],
   "source": [
    "# Enter your code below\n",
    "\n",
    "# Hint: change the unit time to 0.1ms to get a smooth ramp current. \n",
    "\n",
    "#########################\n",
    "##   Q2.2.2a solution   ##\n",
    "#########################\n",
    "\n",
    "\n",
    "\n",
    "###########################\n",
    "##   Q2.2.2a conclusion   ##\n",
    "###########################\n",
    "\n",
    "\n",
    "# Answer in green box below"
   ]
  },
  {
   "cell_type": "markdown",
   "metadata": {},
   "source": [
    "<div class=\"alert alert-success\">\n",
    "<span style=\"color:black\">\n",
    "    \n",
    "**A2.2.2a conclusion** \n",
    "    \n",
    "\\begin{tcolorbox}[colback=green!5]\n",
    "    \n",
    "Your answer here\n",
    "\n",
    "\\end{tcolorbox}\n",
    "    \n",
    "</span>"
   ]
  },
  {
   "cell_type": "code",
   "execution_count": 23,
   "metadata": {},
   "outputs": [],
   "source": [
    "#insert your code here\n",
    "\n",
    "#########################\n",
    "##   Q2.2.2b solution  ##\n",
    "#########################\n",
    "\n",
    "\n",
    "\n",
    "###########################\n",
    "##   Q2.2.2b conclusion   ##\n",
    "###########################\n",
    "\n",
    "\n",
    "# Answer in green box below\n"
   ]
  },
  {
   "cell_type": "markdown",
   "metadata": {},
   "source": [
    "<div class=\"alert alert-success\">\n",
    "<span style=\"color:black\">\n",
    "    \n",
    "**A2.2.2b conclusion** \n",
    "    \n",
    "\\begin{tcolorbox}[colback=green!5]\n",
    "    \n",
    "Your answer here\n",
    "\n",
    "\\end{tcolorbox}\n",
    "    \n",
    "    \n",
    "</span>"
   ]
  },
  {
   "cell_type": "markdown",
   "metadata": {
    "jp-MarkdownHeadingCollapsed": true,
    "tags": []
   },
   "source": [
    "### A2.2.3 Differences <a id=\"A2.2.3\"/>\n",
    "* [Go back to Q2.2.3](#Q2.2.3) "
   ]
  },
  {
   "cell_type": "code",
   "execution_count": 24,
   "metadata": {},
   "outputs": [],
   "source": [
    "# Enter your answer below\n",
    "\n",
    "#########################\n",
    "##   Q2.2.3 solution   ##\n",
    "#########################\n",
    "\n",
    "# Answer in green box below"
   ]
  },
  {
   "cell_type": "markdown",
   "metadata": {},
   "source": [
    "<div class=\"alert alert-success\">\n",
    "<span style=\"color:black\">\n",
    "    \n",
    "**A2.2.3 conclusion** \n",
    "    \n",
    "\\begin{tcolorbox}[colback=green!5]\n",
    "\n",
    "Your answer here\n",
    "\n",
    "\\end{tcolorbox}\n",
    "    \n",
    "    \n",
    "   \n",
    "</span>"
   ]
  },
  {
   "cell_type": "markdown",
   "metadata": {
    "jp-MarkdownHeadingCollapsed": true,
    "tags": []
   },
   "source": [
    "### A2.3 Rebound spike <a id=\"A2.3\"/>\n",
    "* [Go back to Q2.3](#Q2.3) "
   ]
  },
  {
   "cell_type": "code",
   "execution_count": 25,
   "metadata": {
    "scrolled": false
   },
   "outputs": [],
   "source": [
    "# Enter your answer below\n",
    "\n",
    "#######################\n",
    "##   Q2.3 solution   ##\n",
    "#######################\n",
    "\n"
   ]
  },
  {
   "cell_type": "markdown",
   "metadata": {},
   "source": [
    "<div class=\"alert alert-success\">\n",
    "<span style=\"color:black\">\n",
    "\n",
    "**A2.3 conclusion** \n",
    "    \n",
    "\\begin{tcolorbox}[colback=green!5]\n",
    "    \n",
    "Your answer here\n",
    "\n",
    "\\end{tcolorbox}\n",
    "    \n",
    "</span>"
   ]
  },
  {
   "cell_type": "code",
   "execution_count": null,
   "metadata": {},
   "outputs": [],
   "source": []
  }
 ],
 "metadata": {
  "kernelspec": {
   "display_name": "Python 3 (ipykernel)",
   "language": "python",
   "name": "python3"
  },
  "language_info": {
   "codemirror_mode": {
    "name": "ipython",
    "version": 3
   },
   "file_extension": ".py",
   "mimetype": "text/x-python",
   "name": "python",
   "nbconvert_exporter": "python",
   "pygments_lexer": "ipython3",
   "version": "3.10.10"
  }
 },
 "nbformat": 4,
 "nbformat_minor": 4
}
