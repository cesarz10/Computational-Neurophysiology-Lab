{
 "cells": [
  {
   "cell_type": "markdown",
   "metadata": {
    "tags": []
   },
   "source": [
    "# Lab Session #1\n",
    "## Computational Neurophysiology [E010620A]\n",
    "### Dept of Electronics and Informatics (VUB) and Dept of Information Technology (UGent)\n",
    "Jorne Laton, Lloyd Plumart, Talis Vertriest, Jeroen Van Schependom, Sarah Verhulst"
   ]
  },
  {
   "cell_type": "markdown",
   "metadata": {},
   "source": [
    "<font color=blue>Student names and IDs:</font> \n",
    "César Zapata - 02213600\n",
    "<br>\n",
    "<font color=blue>Academic Year:</font> 2022-2023"
   ]
  },
  {
   "cell_type": "markdown",
   "metadata": {
    "tags": []
   },
   "source": [
    "### General Introduction\n",
    "In all the practical sessions of this course we will use python 3 and jupyter notebooks. Install Anaconda on your computer and open jupyter notebook by typing \"jupyter notebook\" or \"jupyter lab\" in the command line. Your browser will open a file explorer, from where you can navigate to the exercise.\n",
    "\n",
    "The lab sessions consist of a jupyter notebook in which the different steps are described and explained, together with the tasks you are asked to complete.\n",
    "\n",
    "You will form groups of two and submit one report per group. Reports should be formatted according to the guiding document. Make sure your answers stand out in the final submitted document!\n",
    "\n",
    "Deadline: 2 weeks after lecture. Reports submitted after the deadline will not be graded."
   ]
  },
  {
   "cell_type": "markdown",
   "metadata": {
    "tags": []
   },
   "source": [
    "### Context and Goals\n",
    "This lab session is focused on the Hodgkin-Huxley (HH) model, following and reproducing the theoretical chapter that can be found here: https://neuronaldynamics.epfl.ch/online/Ch2.S2.html. You will be asked to complete code scripts, make observations and explain the results of the different simulations, and contextualise the analyses with the HH model theoretical background.\n"
   ]
  },
  {
   "cell_type": "markdown",
   "metadata": {},
   "source": [
    "# Questions\n",
    "## Part 1: Hodgkin-Huxley model equations\n",
    "### Q1.1 HH equations <a id=\"Q1.1\"/>\n",
    "We are coding the HH equations by a single or by multiple functions, to reproduce the behaviour of a human pyramidal neuron when excited. This will be the function to be made to perform the HH model is the following: \n",
    "\n",
    "`\n",
    "m, h, n, V, INa, IK, alpha_m, alpha_n, alpha_h, beta_m, beta_n, beta_h = HH_model(T, I_input, dt)\n",
    "`\n",
    "\n",
    "The inputs are:\n",
    "1. `T` -> Time window of simulation [ms]\n",
    "2. `I_input` -> input current [µA]\n",
    "3. `dt` -> the rate of update [ms]\n",
    "\n",
    "The outputs are: \n",
    "1. `V` -> the voltage of neuron [mV]\n",
    "2. `m` -> activation variable for Na-current [u/cm^2]\n",
    "3. `h` -> inactivation variable for Na-current [u/cm^2]\n",
    "4. `n` -> activation variable for K-current [u/cm^2]\n",
    "5. `t` -> the time axis of the simulation (useful for plotting) [ms]\n",
    "6. `I_Na` -> Na current [µA/cm^2]\n",
    "7. `I_K` -> K current [µA/cm^2]\n",
    "8. `alpha_m, beta_m, alpha_n, beta_n, alpha_h, beta_h` -> gating parameters [1/ms]\n",
    "\n",
    "You can use the functions that are already provided to retrieve some parameters. To complete the code, you can find the equations and parameter values in https://neuronaldynamics.epfl.ch/online/Ch2.S2.html.\n",
    "\n",
    "Q1.1a Implement the update equations of the gating variables m, n and h as described in Table 2.1 of the online version of the book and reproduce Figure 2.3.\n",
    "\n",
    "Q1.1b Make the plots and describe in your own words what you have plotted.\n",
    "\n",
    "Q1.1c Unfortunately, when simulating the HH model with these parameters, you will not get a K-current. Please adjust (u-25) by (u+25) in the update equations for gating variable $n$.\n",
    "\n",
    "* [Import these modules](#P1_imports)\n",
    "\n",
    "* [Fill in answers here](#A1.1)"
   ]
  },
  {
   "cell_type": "markdown",
   "metadata": {},
   "source": [
    "### Q1.2 Simulate the response to an impulse current <a id=\"Q1.2\"/>\n",
    "To try out whether the designed functions work, design a step function (A1.2a) that can be used to model the current input (A1.2b). Consider the following design parameters:\n",
    "\n",
    "1. `I_input function` -> step function \n",
    "2. `T` -> time of simulation: 100 ms\n",
    "3. `dt` -> update time: 0.01 ms\n",
    "4. Current impulse `I_input`: 20 µA between 1 and 2 ms.\n",
    "\n",
    "* [Fill in answers here](#A1.2)"
   ]
  },
  {
   "cell_type": "markdown",
   "metadata": {
    "tags": []
   },
   "source": [
    "### Q1.3. Plot V(t) <a id=\"Q1.3\"/>\n",
    "Plot the first 20 ms of $V(t)$.\n",
    "\n",
    "Describe the dynamics of the neural voltage $V$.\n",
    "Does it make sense?\n",
    "\n",
    "* [Fill in answers here](#A1.3)"
   ]
  },
  {
   "cell_type": "markdown",
   "metadata": {},
   "source": [
    "### Q1.4 Plot the model parameters <a id=\"Q1.4\"/>\n",
    "Plot the model parameters n, m and h in function of t and again limit the plots to the first 20 ms. Describe the dynamics of the model parameters m, n, and h. Does it make sense? Describe how the gates swing open and closed during the dynamics of a spike.\n",
    "* [Fill in answers here](#A1.4)"
   ]
  },
  {
   "cell_type": "markdown",
   "metadata": {},
   "source": [
    "### Q1.5. Plot I_Na and I_K <a id=\"Q1.5\"/>\n",
    "Plot I_Na and I_K in function of t (again only the first 20 ms).\n",
    "\n",
    "Describe the dynamics of the currents. Does it make sense? Describe the currents flows during a spike.\n",
    "\n",
    "* [Fill in answers here](#A1.5)"
   ]
  },
  {
   "cell_type": "markdown",
   "metadata": {},
   "source": [
    "### Q1.6. Plot the conductances g_Na and g_K <a id=\"Q1.6\"/>\n",
    "Plot the conductances g_Na, g_K in function of t (again only the first 20 ms).\n",
    "\n",
    "How are the conductances evolving during a spike?\n",
    "\n",
    "* [Fill in answers here](#A1.6)"
   ]
  },
  {
   "cell_type": "markdown",
   "metadata": {},
   "source": [
    "## Part 2: Package BRIAN"
   ]
  },
  {
   "cell_type": "markdown",
   "metadata": {},
   "source": [
    "In the second part of the practical, you are going to use the Brian library to simulate the dynamics of a squid neuron when excited. To learn more about this module, read this paper: https://pubmed.ncbi.nlm.nih.gov/19115011/ . \n",
    "Before starting, the Brian module must be installed, together with the neurodynex3 module. Open the anaconda prompt, and install the brian2 package:\n",
    "\n",
    "`conda install -c conda-forge brian2`\n",
    "\n",
    "and then the neurodynex3 package:\n",
    "\n",
    "`pip install neurodynex3`\n",
    "\n",
    "### Note\n",
    "If you are working on Linux or one of the newest mac OS systems, you might check whether your pip command is actually pip3.  \n",
    "\n",
    "After installing, the packages are ready to use! If you need more information about the modules, you can find it here https://briansimulator.org/.\n",
    "\n",
    "* [Import these modules](#P2_imports)"
   ]
  },
  {
   "cell_type": "markdown",
   "metadata": {},
   "source": [
    "### Q2.1 Step current response <a id=\"Q2.1\"/>\n",
    "We study the response of a Hodgkin-Huxley squid neuron to different input currents. \n",
    "\n",
    "Have a look at the documentation of the functions `HH.simulate_HH_neuron()` and `HH.plot_data()` and the module `neurodynex3.tools.input_factory`.\n",
    "\n",
    "By using the mentioned functions, code the following steps: \n",
    "1. Step function for the input current \n",
    "2. Run the HH simulation (for 300ms)\n",
    "3. Plot the results of this simulation \n",
    "\n",
    "Vary the amplitude of the input current between 0.1 and 50 µA between 50 and 250ms.\n",
    "Describe the different dynamics of the spiking neuron. \n",
    "\n",
    "What is the lowest step current amplitude to generate a spike or to generate repetitive firing?\n",
    "Discuss the difference between the two regimes.\n",
    "\n",
    "* [Fill in answer here](#A2.1)"
   ]
  },
  {
   "cell_type": "markdown",
   "metadata": {},
   "source": [
    "### Q2.2 Slow and fast ramp current\n",
    "The minimal current to elicit a spike does not just depend on the amplitude I or on the total charge Q of the current, but on the “shape” of the current. Let’s investigate why."
   ]
  },
  {
   "cell_type": "markdown",
   "metadata": {},
   "source": [
    "#### Q2.2.1 Slow ramp current <a id=\"Q2.2.1\"/>\n",
    "Inject a slow ramp current into a HH neuron. The current is 0 µA at t = 0 and starts at 5 ms, linearly increasing to an amplitude of 14.0 µA at t = t_ramp_end. At t > t_ramp_end, the current is set back to 0 µA. \n",
    "A slow ramp duration could be between 30-100 ms.\n",
    "\n",
    "Experiment with different t_ramp_end values to discover the maximal duration of a ramp, such that the neuron does not spike. Make sure you simulate for at least 20ms after t_ramp_end.\n",
    "\n",
    "Q2.2.1a Use the function `HH.plot_data()` to visualize the dynamics of the system.\n",
    "\n",
    "Q2.2.1b What is the membrane voltage at the time when the current injection stops (t=slow_ramp_t_end)?\n",
    "\n",
    "* [Fill in answers here](#A2.2.1)"
   ]
  },
  {
   "cell_type": "markdown",
   "metadata": {},
   "source": [
    "#### Q2.2.2 Fast ramp current <a id=\"Q2.2.2\"/>\n",
    "Q2.2.2a Do the same as before but this time for a fast ramp current. Start the linearly increasing input current again at t = 5 ms. The amplitude at t = t_ramp_end is 5.0 µA. Start with a duration of 5 ms and then increase the ramp duration it until no spike occurs.\n",
    "Use the function `HH.plot_data()` to visualize the dynamics of the system.\n",
    "\n",
    "Q2.2.2b What is the membrane voltage at the time when the current injection stops (t=slow_ramp_t_end)?\n",
    "\n",
    "* [Fill in answers here](#A2.2.2)"
   ]
  },
  {
   "cell_type": "markdown",
   "metadata": {},
   "source": [
    "#### Q2.2.3. Differences <a id=\"Q2.2.3\"/>\n",
    "Discuss the differences between the two situations. Why are the two “threshold” voltages different? Link your observation to the gating variables m, n and h.\n",
    "\n",
    "Hint: have a look at Chapter 2, Figure 2.3.\n",
    "\n",
    "* [Fill in answers here](#A2.2.3)"
   ]
  },
  {
   "cell_type": "markdown",
   "metadata": {
    "jp-MarkdownHeadingCollapsed": true,
    "tags": []
   },
   "source": [
    "### Q2.3 Rebound Spike <a id=\"Q2.3\"/>\n",
    "A HH neuron can spike not only if it receives a sufficiently strong depolarizing input current but also after a hyperpolarizing current. Such a spike is called a rebound spike.\n",
    "\n",
    "Inject a hyperpolarizing step current I_input = -1 µA for a duration of 25 ms into the HH neuron. Simulate the neuron for 50 ms and plot the voltage trace and the gating variables. Repeat the simulation with I_input = -5 µA. What is happening here? To which gating variable do you attribute this rebound spike?\n",
    "\n",
    "It may be difficult to to see which gating parameter is responsible for depolarisation (and a possible consequent rebound spike) after a negative current injection. Therefore, also plot the real ratio of n and m, together with the effect of h and use this plot to answer the above question.\n",
    "\n",
    "* [Fill in answers here](#A2.3)"
   ]
  },
  {
   "cell_type": "markdown",
   "metadata": {
    "tags": []
   },
   "source": [
    "# Answers"
   ]
  },
  {
   "cell_type": "markdown",
   "metadata": {
    "tags": []
   },
   "source": [
    "## Part 1: Hodgkin-Huxley model equations"
   ]
  },
  {
   "cell_type": "markdown",
   "metadata": {
    "tags": []
   },
   "source": [
    "### Imports <a id=\"P1_imports\"/>"
   ]
  },
  {
   "cell_type": "code",
   "execution_count": 4,
   "metadata": {
    "tags": []
   },
   "outputs": [],
   "source": [
    "# Import and add all the libraries you need throughout the code\n",
    "\n",
    "import math\n",
    "import numpy as np\n",
    "import matplotlib.pyplot as plt\n",
    "\n",
    "# Make your graphs colorblind-friendly\n",
    "plt.style.use('tableau-colorblind10')"
   ]
  },
  {
   "cell_type": "markdown",
   "metadata": {
    "jp-MarkdownHeadingCollapsed": true,
    "tags": []
   },
   "source": [
    "### A1.1: HH Equations <a id=\"A1.1\"/>\n",
    "* [Go back to Q1.1](#Q1.1) "
   ]
  },
  {
   "cell_type": "code",
   "execution_count": 38,
   "metadata": {
    "tags": []
   },
   "outputs": [],
   "source": [
    "# A1.1a Enter your code at the bottom of this cell\n",
    "\n",
    "# Use the following variable names:\n",
    "\n",
    "#T = 100 #ms. Given       \n",
    "#I_input                  \n",
    "#dt # given               \n",
    "#alpha_m                  \n",
    "#beta_m                   \n",
    "#alpha_n                  \n",
    "#beta_n                   \n",
    "#alpha_h                  \n",
    "#beta_h                   \n",
    "#m                        \n",
    "#h                        \n",
    "#n                        \n",
    "#V                        \n",
    "#t                        \n",
    "#I_Na                     \n",
    "#I_K                      \n",
    "#I_L                      \n",
    "\n",
    "# Hints:\n",
    "# Reversal potentials have unit mV\n",
    "# Constant conductances have unit mS/cm2\n",
    "    \n",
    "# Hint: complete the following functions:\n",
    "\n",
    "\n",
    "def gating_variable_n(u):\n",
    "    if (1 - math.e ** (-(u-25) / 9)) == 0 or (1 - math.e ** ( (u-25) / 9)) == 0:\n",
    "        return 0, 0\n",
    "                                             \n",
    "    alpha_n = (0.02 * (u-25)) / (1 - math.e ** (-(u-25) / 9) )\n",
    "    beta_n = (-0.002 * (u-25)) / (1 - math.e ** ( (u-25) / 9) )\n",
    "    \n",
    "    return alpha_n, beta_n\n",
    "\n",
    "\n",
    "def gating_variable_m(u):\n",
    "    if (1 - math.e ** (-(u+35) / 9)) == 0 or (1 - math.e ** ( (u+35) / 9)) == 0:\n",
    "        return 0, 0\n",
    "                                             \n",
    "    alpha_m = (0.182 * (u+35)) / (1 - math.e ** (-(u+35) / 9) )\n",
    "    beta_m = (-0.124 * (u+35)) / (1 - math.e ** ( (u+35) / 9) )\n",
    "    \n",
    "    return alpha_m, beta_m\n",
    "\n",
    "\n",
    "def gating_variable_h(u):\n",
    "    if (math.e ** ((u+90) / 12)) == 0:\n",
    "        return 0, 0                                      \n",
    "    alpha_h = 0.25 * (math.e ** (-(u+90) / 12) )\n",
    "    beta_h = 0.25 * (math.e ** ((u+62) / 6)) / ((math.e ** ((u+90) / 12)) )\n",
    "    \n",
    "    return alpha_h, beta_h\n",
    "\n",
    "\n",
    "\n",
    "def HH_model(T, I_input, dt):\n",
    "    \n",
    "    u_rest = -65 #(mV) -> membrane resting potential\n",
    "    t = np.arange(0, T, dt)  # time axis of the simulation\n",
    "    \n",
    "    # gating variables\n",
    "    #alpha_m, beta_m = gating_variable_m(u_rest)\n",
    "    #alpha_n, beta_n = gating_variable_n(u_rest)\n",
    "    #alpha_h, beta_h = gating_variable_h(u_rest)\n",
    "\n",
    "    # Table 2.1 in the document. Parameters for conductance and reverse potentials\n",
    "    g_Na = 40 #(mS/cm2)\n",
    "    E_Na = 55 #(mV)    \n",
    "    g_K = 35 #(mS/cm2)\n",
    "    E_K = -77 #(mV)\n",
    "    g_L = 0.3 #(mS/cm2)\n",
    "    E_L = -65 #(mV)\n",
    "    C_m = 1 #(uF/cm2)\n",
    "\n",
    "\n",
    "    # Defining initial conditions\n",
    "    V = np.zeros(len(t)+1) # membrane potential vector (mV)\n",
    "    I_Na = np.zeros(len(t)+1)\n",
    "    I_K = np.zeros(len(t)+1)\n",
    "    I_L = np.zeros(len(t)+1)\n",
    "    m = np.zeros(len(t)+1) \n",
    "    h = np.zeros(len(t)+1) \n",
    "    n = np.zeros(len(t)+1) \n",
    "    alpha_m = np.zeros(len(t)+1)\n",
    "    alpha_n = np.zeros(len(t)+1)\n",
    "    alpha_h = np.zeros(len(t)+1)\n",
    "    beta_m = np.zeros(len(t)+1)\n",
    "    beta_n = np.zeros(len(t)+1)\n",
    "    beta_h = np.zeros(len(t)+1)\n",
    "    \n",
    "    alpha_m[0], beta_m[0] = gating_variable_m(V[0]) \n",
    "    alpha_n[0], beta_n[0] = gating_variable_n(V[0])\n",
    "    alpha_h[0], beta_h[0] = gating_variable_h(V[0])\n",
    "    \n",
    "    #Tau_m = np.zeros(len(t)+1)\n",
    "    #Tau_n = np.zeros(len(t)+1)\n",
    "    #Tau_h =np.zeros(len(t)+1)\n",
    "\n",
    "    # initial values\n",
    "    V[0] = u_rest \n",
    "    m[0] = (alpha_m[0]) / (alpha_m[0] + beta_m[0])\n",
    "    n[0] = (alpha_n[0]) / (alpha_n[0] + beta_n[0])\n",
    "    h[0] = (alpha_h[0]) / (alpha_h[0] + beta_h[0])\n",
    "    #Tau_m[0] = 1 / (alpha_m + beta_m) \n",
    "    #Tau_n[0] = 1 / (alpha_n + beta_n) \n",
    "    #Tau_h[0] = 1 / (alpha_h + beta_h) \n",
    "\n",
    "\n",
    "    def Ic(v, m, n, h):\n",
    "        I_Na = g_Na*(m**3)*h*(v-E_Na)\n",
    "        I_K = g_K*(n**4)*(v - E_K)\n",
    "        I_L = g_L*(v-E_L)\n",
    "        \n",
    "        return  I_Na, I_K, I_L  \n",
    "\n",
    "    \n",
    "    # Simulating\n",
    "    for i in range(int(T/dt)):\n",
    "    \n",
    "        # updating gating variables\n",
    "        alpha_m[i], beta_m[i] = gating_variable_m(V[i])\n",
    "        alpha_n[i], beta_n[i] = gating_variable_n(V[i])\n",
    "        alpha_h[i], beta_h[i] = gating_variable_h(V[i])\n",
    "\n",
    "        #Tau_m[i] = 1 / (alpha_m + beta_m) \n",
    "        #Tau_n[i] = 1 / (alpha_n + beta_n) \n",
    "        #Tau_h[i] = 1 / (alpha_h + beta_h) \n",
    "        \n",
    "        #V[i] = (dt * (-Ic(V[i-1], m[i-1], n[i-1], h[i-1]) / C_m)) + V[i-1]\n",
    "        I_Na[i], I_K[i], I_L[i] = Ic(V[i], m[i], n[i], h[i])\n",
    "        \n",
    "        \n",
    "        m[i+1] = m[i] + dt * (alpha_m[i] * (1 - m[i]) - beta_m[i] * m[i])\n",
    "        h[i+1] = h[i] + dt * (alpha_h[i] * (1 - h[i]) - beta_h[i] * h[i])\n",
    "        n[i+1] = n[i] + dt * (alpha_n[i] * (1 - n[i]) - beta_n[i] * n[i])\n",
    "        \n",
    "        V[i+1] = ( (dt * (I_input - I_Na[i] - I_K[i] - I_L[i]) + V[i]) ) / C_m\n",
    "        \n",
    "\n",
    "    # Plotting\n",
    "    #plt.plot(V, m, label=\"m\")\n",
    "    #plt.plot(V, n, label=\"n\")\n",
    "    #plt.plot(V, h, label=\"h\")\n",
    "    #plt.legend()\n",
    "    #plt.xlabel('Voltage(mV)')\n",
    "    #plt.ylabel('X0(u)')\n",
    "    #plt.show()\n",
    "\n",
    "\n",
    "    #plt.plot(V, Tau_m, label=\"Tau_m\")\n",
    "    #plt.plot(V, Tau_n, label=\"Tau_n\")\n",
    "    #plt.plot(V, Tau_h, label=\"Tau_h\")\n",
    "    #plt.legend()\n",
    "    #plt.xlabel('Voltage(mV)')\n",
    "    #plt.ylabel('Tau(x)')\n",
    "    #plt.show()\n",
    "\n",
    "    return m, h, n, V, t, alpha_m, alpha_n, alpha_h, beta_m, beta_n, beta_h#, Tau_n, Tau_m, Tau_h\n",
    "                             \n",
    "        \n",
    "##################################\n",
    "##   A1.1a solutions functions   ##\n",
    "##################################\n",
    "\n",
    "# m, h, n, V, t, I_Na, I_K, I_L, alpha_m, alpha_n, alpha_h, beta_m, beta_n, beta_h, tau_n, tau_m, tau_h = HH_model(100, 0.02, 0.001)\n",
    "my_model = HH_model(100, 0.02, 0.01)\n"
   ]
  },
  {
   "cell_type": "code",
   "execution_count": 61,
   "metadata": {
    "tags": []
   },
   "outputs": [
    {
     "data": {
      "image/png": "[encoded data removed]",
      "text/plain": [
       "<Figure size 640x480 with 1 Axes>"
      ]
     },
     "metadata": {},
     "output_type": "display_data"
    },
    {
     "data": {
      "image/png": "[encoded data removed]",
      "text/plain": [
       "<Figure size 640x480 with 1 Axes>"
      ]
     },
     "metadata": {},
     "output_type": "display_data"
    }
   ],
   "source": [
    "# A1.1b Plot your graph below\n",
    "\n",
    "# Hint: the first graph plots rate constants (n, m and h in function of membrane voltage)\n",
    "# Hint: the second graph plots the voltage dependent time constants (tau_n, tau_m and tau_h in function of membrane voltage)\n",
    "\n",
    "v_arr = list(range(-100,100,1))\n",
    "\n",
    "n = np.zeros(len(v_arr))\n",
    "m = np.zeros(len(v_arr))\n",
    "h = np.zeros(len(v_arr))\n",
    "\n",
    "tau_n = np.zeros(len(v_arr))\n",
    "tau_m = np.zeros(len(v_arr))\n",
    "tau_h = np.zeros(len(v_arr))\n",
    "\n",
    "for i in range(len(v_arr)):\n",
    "    \n",
    "    alpha_m, beta_m = gating_variable_m(v_arr[i])\n",
    "    alpha_n, beta_n = gating_variable_n(v_arr[i])\n",
    "    alpha_h, beta_h= gating_variable_h(v_arr[i])\n",
    "    \n",
    "    if alpha_m == 0 or alpha_n == 0 or alpha_h == 0: # just in case we encounter a division by 0, not nice but works (?)\n",
    "        am_0, bm_0 = gating_variable_m(v_arr[i-1])\n",
    "        am_1, bm_1 = gating_variable_m(v_arr[i+1])\n",
    "        \n",
    "        an_0, bn_0 = gating_variable_n(v_arr[i-1])\n",
    "        an_1, bn_1 = gating_variable_n(v_arr[i+1])\n",
    "        \n",
    "        ah_0, bh_0 = gating_variable_h(v_arr[i-1])\n",
    "        ah_1, bh_1 = gating_variable_h(v_arr[i+1])\n",
    "        \n",
    "        alpha_m = am_0 + am_1 / 2\n",
    "        beta_m = bm_0 + bm_1 / 2\n",
    "        \n",
    "        alpha_n = an_0 + an_1 / 2\n",
    "        beta_n = bn_0 + bn_1 / 2\n",
    "        \n",
    "        alpha_h = ah_0 + ah_1 / 2\n",
    "        beta_h = bh_0 + bh_1 / 2\n",
    "        \n",
    "    \n",
    "    m[i] = alpha_m/(alpha_m+beta_m)\n",
    "    n[i] = alpha_n/(alpha_n+beta_n)\n",
    "    h[i] = alpha_h/(alpha_h+beta_h)\n",
    "    \n",
    "    tau_m[i] = 1/(alpha_m+beta_m)\n",
    "    tau_n[i] = 1/(alpha_n+beta_n)\n",
    "    tau_h[i] = 1/(alpha_h+beta_h)\n",
    "    \n",
    "\n",
    "\n",
    "plt.plot(v_arr, h, 'b.', label='h', markersize=2, alpha=0.7)\n",
    "plt.plot(v_arr, m, 'r', label='m', markersize=2, alpha=0.7)\n",
    "plt.plot(v_arr, n, 'k--', label='n', markersize=2, alpha=0.7)\n",
    "plt.legend()\n",
    "plt.title('Equilibrium functions for variables m, n, h HH-model')\n",
    "plt.xlabel('u(mV)')\n",
    "plt.ylabel('$x_{0}(u)$')\n",
    "plt.show()\n",
    "\n",
    "plt.plot(u_range, tau_h, 'b.', label='h', markersize=2, alpha=0.7)\n",
    "plt.plot(u_range, tau_m,  'r', label='m', markersize=2, alpha=0.7)\n",
    "plt.plot(u_range, tau_n, 'k--', label='n', markersize=2, alpha=0.7)\n",
    "plt.legend()\n",
    "plt.title('Voltage dependent time constant')\n",
    "plt.xlabel('u(mV)')\n",
    "plt.ylabel('$\\\\tau_{x}(u)(ms)$')\n",
    "plt.show()\n",
    "\n",
    "# What is your conclusion?\n",
    "\n",
    "##############################\n",
    "##   A1.1b plots   ##\n",
    "##############################\n",
    "    \n",
    "\n",
    "#########################\n",
    "##   A1.1b conclusion   ##\n",
    "#########################\n",
    "\n",
    "# Answer in green box below\n"
   ]
  },
  {
   "cell_type": "markdown",
   "metadata": {},
   "source": [
    "<div class=\"alert alert-success\">\n",
    "<span style=\"color:black\">\n",
    "    \n",
    "**A1.1b conclusion** \n",
    "\n",
    "    \n",
    "¡Division by zero gives some weird data on the graph!\n",
    "\n",
    "\n",
    "</span>"
   ]
  },
  {
   "cell_type": "code",
   "execution_count": 4,
   "metadata": {
    "tags": []
   },
   "outputs": [],
   "source": [
    "# A1.1c Enter the updated HH model here\n",
    "\n",
    "########################################\n",
    "##   A1.1c updated HH model solution   ##\n",
    "########################################\n",
    "                       \n"
   ]
  },
  {
   "cell_type": "markdown",
   "metadata": {
    "jp-MarkdownHeadingCollapsed": true,
    "tags": []
   },
   "source": [
    "### A1.2: Response simulation <a id=\"A1.2\"/>\n",
    "* [Go back to Q1.2](#Q1.2) "
   ]
  },
  {
   "cell_type": "code",
   "execution_count": 14,
   "metadata": {
    "tags": []
   },
   "outputs": [
    {
     "data": {
      "image/png": "[encoded data removed]",
      "text/plain": [
       "<Figure size 432x288 with 1 Axes>"
      ]
     },
     "metadata": {
      "needs_background": "light"
     },
     "output_type": "display_data"
    }
   ],
   "source": [
    "# A1.2a Set up and plot your input current\n",
    "\n",
    "######################################\n",
    "##   A1.2a solutions input current   ##\n",
    "######################################\n",
    "t = np.arange(0, 100, 0.01)\n",
    "I_input = [0 if x < 1 or x > 2 else 20 for x in t]"
   ]
  },
  {
   "cell_type": "code",
   "execution_count": 6,
   "metadata": {
    "tags": []
   },
   "outputs": [],
   "source": [
    "# A1.2b Insert the input current into your HH_model function\n",
    "\n",
    "#######################################\n",
    "##   A1.2b insert input in HH_model   ##\n",
    "#######################################\n"
   ]
  },
  {
   "cell_type": "markdown",
   "metadata": {
    "jp-MarkdownHeadingCollapsed": true,
    "tags": []
   },
   "source": [
    "### A1.3: Plot V(t) <a id=\"A1.3\"/>\n",
    "* [Go back to Q1.3](#Q1.3) "
   ]
  },
  {
   "cell_type": "code",
   "execution_count": 7,
   "metadata": {
    "tags": []
   },
   "outputs": [],
   "source": [
    "# A1.3a Enter your answer below\n",
    "\n",
    "###########################\n",
    "##   A1.3a solution plot  ##\n",
    "###########################\n",
    "\n"
   ]
  },
  {
   "cell_type": "code",
   "execution_count": 8,
   "metadata": {
    "tags": []
   },
   "outputs": [],
   "source": [
    "# A1.3b Enter your interpretation and conclusion below\n",
    "\n",
    "#########################\n",
    "##   A1.3b conclusion   ##\n",
    "#########################\n",
    "\n",
    "# Answer in green box below"
   ]
  },
  {
   "cell_type": "markdown",
   "metadata": {},
   "source": [
    "<div class=\"alert alert-success\">\n",
    "<span style=\"color:black\">\n",
    "    \n",
    "**A1.3b conclusion** \n",
    "\n",
    "    \n",
    "Your answer here\n",
    "\n",
    "    \n",
    "</span>"
   ]
  },
  {
   "cell_type": "markdown",
   "metadata": {
    "jp-MarkdownHeadingCollapsed": true,
    "tags": []
   },
   "source": [
    "### A1.4: Plot the model parameters <a id=\"A1.4\"/>\n",
    "* [Go back to Q1.4](#Q1.4) "
   ]
  },
  {
   "cell_type": "code",
   "execution_count": 9,
   "metadata": {
    "tags": []
   },
   "outputs": [],
   "source": [
    "# A1.4a Plot your graph below\n",
    "\n",
    "############################\n",
    "##   A1.4a solution plot   ##\n",
    "############################\n",
    "\n"
   ]
  },
  {
   "cell_type": "code",
   "execution_count": 10,
   "metadata": {
    "tags": []
   },
   "outputs": [],
   "source": [
    "# A1.4b Enter your interpretation and conclusion answer below\n",
    "\n",
    "#########################\n",
    "##   A1.4b conclusion   ##\n",
    "#########################\n",
    "\n",
    "# Answer in green box below"
   ]
  },
  {
   "cell_type": "markdown",
   "metadata": {},
   "source": [
    "<div class=\"alert alert-success\">\n",
    "<span style=\"color:black\">\n",
    "    \n",
    "**A1.4b conclusion** \n",
    "    \n",
    "    \n",
    "Your answer here\n",
    "\n",
    "    \n",
    "</span>"
   ]
  },
  {
   "cell_type": "markdown",
   "metadata": {
    "jp-MarkdownHeadingCollapsed": true,
    "tags": []
   },
   "source": [
    "### A1.5: Plot I_Na and I_K <a id=\"A1.5\"/>\n",
    "* [Go back to Q1.5](#Q1.5)"
   ]
  },
  {
   "cell_type": "code",
   "execution_count": 11,
   "metadata": {},
   "outputs": [],
   "source": [
    "# A1.5a Plot your graph here\n",
    "\n",
    "############################\n",
    "##   A1.5a plot   ##\n",
    "############################\n"
   ]
  },
  {
   "cell_type": "code",
   "execution_count": 12,
   "metadata": {},
   "outputs": [],
   "source": [
    "# A1.5b Enter your interpretation and conclusion\n",
    "\n",
    "#########################\n",
    "##   A1.5b conclusion   ##\n",
    "#########################\n",
    "\n",
    "# Answer in green box below"
   ]
  },
  {
   "cell_type": "markdown",
   "metadata": {},
   "source": [
    "<div class=\"alert alert-success\">\n",
    "<span style=\"color:black\">\n",
    "    \n",
    "**A1.5b conclusion** \n",
    "    \n",
    "    \n",
    "Your answer here\n",
    "\n",
    "    \n",
    "</span>"
   ]
  },
  {
   "cell_type": "markdown",
   "metadata": {
    "jp-MarkdownHeadingCollapsed": true,
    "tags": []
   },
   "source": [
    "### A1.6: Plot the conductances g_Na and g_K <a id=\"A1.6\"/>\n",
    "* [Go back to Q1.6](#Q1.6) "
   ]
  },
  {
   "cell_type": "code",
   "execution_count": 13,
   "metadata": {},
   "outputs": [],
   "source": [
    "# A1.6a Enter your code and plot\n",
    "\n",
    "###########################\n",
    "##   A1.6a solution plot  ##\n",
    "###########################\n"
   ]
  },
  {
   "cell_type": "code",
   "execution_count": 14,
   "metadata": {},
   "outputs": [],
   "source": [
    "# A1.6b Enter your interpretation and conclusion\n",
    "\n",
    "#########################\n",
    "##   A1.6b conclusion   ##\n",
    "#########################\n",
    "\n",
    "# Answer in green box below"
   ]
  },
  {
   "cell_type": "markdown",
   "metadata": {},
   "source": [
    "<div class=\"alert alert-success\">\n",
    "<span style=\"color:black\">\n",
    "    \n",
    "**A1.6b conclusion** \n",
    "    \n",
    "    \n",
    "Your answer here\n",
    "\n",
    "    \n",
    "</span>"
   ]
  },
  {
   "cell_type": "markdown",
   "metadata": {
    "tags": []
   },
   "source": [
    "## Part 2: Package BRIAN"
   ]
  },
  {
   "cell_type": "markdown",
   "metadata": {
    "jp-MarkdownHeadingCollapsed": true,
    "tags": []
   },
   "source": [
    "### Import <a id=\"P2_imports\"/>"
   ]
  },
  {
   "cell_type": "code",
   "execution_count": 2,
   "metadata": {},
   "outputs": [],
   "source": [
    "# The new libraries we need to add\n",
    "\n",
    "%matplotlib inline\n",
    "import brian2 as b2\n",
    "import matplotlib.pyplot as plt\n",
    "import numpy as np\n",
    "from neurodynex3.hodgkin_huxley import HH\n",
    "from neurodynex3.tools import input_factory\n"
   ]
  },
  {
   "cell_type": "markdown",
   "metadata": {
    "jp-MarkdownHeadingCollapsed": true,
    "tags": []
   },
   "source": [
    "### A2.1 Step current response <a id=\"A2.1\"/>\n",
    "* [Go back to Q2.1](#Q2.1) "
   ]
  },
  {
   "cell_type": "code",
   "execution_count": 28,
   "metadata": {
    "scrolled": false
   },
   "outputs": [
    {
     "data": {
      "image/png": "[encoded data removed]",
      "text/plain": [
       "<Figure size 432x288 with 3 Axes>"
      ]
     },
     "metadata": {
      "needs_background": "light"
     },
     "output_type": "display_data"
    }
   ],
   "source": [
    "# A2.1a Enter your answer below\n",
    "\n",
    "# Hint: The unit of the I_input current in the neurodynex3.hodgkin_huxley module is µA (coded b2.uA)\n",
    "\n",
    "########################\n",
    "##   Q2.1. solution   ##\n",
    "########################\n",
    "\n",
    "I_input = input_factory.get_step_current(50, 250, b2.ms, 6.4 * b2.uA, 50 * b2.uA)\n",
    "state_monitor = HH.simulate_HH_neuron(I_input, 300 * b2.ms)\n",
    "HH.plot_data(state_monitor, title=\"HH Neuron\")"
   ]
  },
  {
   "cell_type": "code",
   "execution_count": 17,
   "metadata": {},
   "outputs": [],
   "source": [
    "# Enter your conclusion and interpretation\n",
    "\n",
    "##########################\n",
    "##   Q2.1. conclusion   ##\n",
    "##########################\n",
    "\n",
    "'''\n",
    "The neuron will start showing a spike from a current with amplitude of 2.4uA, which will then \n",
    "convert to repetitive firing at 6.4uA and continue with this behavior up until 50uA, increasing\n",
    "its firing frequency directly proportional to the amplitude of the step current.\n",
    "'''\n",
    "\n",
    "\n",
    "# Answer in green box below"
   ]
  },
  {
   "cell_type": "markdown",
   "metadata": {},
   "source": [
    "<div class=\"alert alert-success\">\n",
    "<span style=\"color:black\">\n",
    "    \n",
    "**A2.1 conclusion** \n",
    "    \n",
    "\\begin{tcolorbox}[colback=green!5]\n",
    "    \n",
    "The lowest step current amplitude to generate a spike is: 2.4uA\n",
    "<br>\n",
    "The lowest step current amplitude to generate repetitive firing is: 6.4uA\n",
    "\n",
    "\\end{tcolorbox}\n",
    "    \n",
    "</span>"
   ]
  },
  {
   "cell_type": "markdown",
   "metadata": {
    "jp-MarkdownHeadingCollapsed": true,
    "tags": []
   },
   "source": [
    "### A2.2.1 Slow ramp current <a id=\"A2.2.1\"/>\n",
    "* [Go back to Q2.2.1](#Q2.2.1) "
   ]
  },
  {
   "cell_type": "code",
   "execution_count": 44,
   "metadata": {},
   "outputs": [
    {
     "data": {
      "image/png": "[encoded data removed]",
      "text/plain": [
       "<Figure size 432x288 with 3 Axes>"
      ]
     },
     "metadata": {
      "needs_background": "light"
     },
     "output_type": "display_data"
    },
    {
     "name": "stdout",
     "output_type": "stream",
     "text": [
      "voltage_slow=0.007214642935639053\n"
     ]
    }
   ],
   "source": [
    "# Enter your code below\n",
    "\n",
    "#########################\n",
    "##   Q2.2.1a solution   ##\n",
    "#########################\n",
    "\n",
    "b2.defaultclock.dt = 0.02*b2.ms\n",
    "slow_ramp_t_end = 78  # no spike. make it shorter\n",
    "slow_ramp_current = input_factory.get_ramp_current(5, slow_ramp_t_end, b2.ms, 0.*b2.uA, 14.0*b2.uA)\n",
    "state_monitor = HH.simulate_HH_neuron(slow_ramp_current, 100 * b2.ms)\n",
    "idx_t_end = int(round(slow_ramp_t_end*b2.ms / b2.defaultclock.dt))\n",
    "voltage_slow = state_monitor.vm[0,idx_t_end]\n",
    "HH.plot_data(state_monitor, title=\"HH Neuron - slow\")\n",
    "print(f\"voltage_slow={voltage_slow}\")"
   ]
  },
  {
   "cell_type": "code",
   "execution_count": 29,
   "metadata": {},
   "outputs": [
    {
     "data": {
      "text/plain": [
       "'\\nThe slow rising of the current prevents the neuron from reaching the threshold to get a spike.\\n'"
      ]
     },
     "execution_count": 29,
     "metadata": {},
     "output_type": "execute_result"
    }
   ],
   "source": [
    "###########################\n",
    "##   Q2.2.1a conclusion   ##\n",
    "###########################\n",
    "\n",
    "'''\n",
    "The slow rising of the current prevents the neuron from reaching the threshold to get a spike.\n",
    "'''\n",
    "\n",
    "# Answer in green box below"
   ]
  },
  {
   "cell_type": "markdown",
   "metadata": {},
   "source": [
    "<div class=\"alert alert-success\">\n",
    "<span style=\"color:black\">\n",
    "    \n",
    "**A2.2.1a conclusion** \n",
    "    \n",
    "\\begin{tcolorbox}[colback=green!5]\n",
    "    \n",
    "The membrane voltage at the time when the current injection stops is 7mV. At this time, the neuron <br>\n",
    "shows a minimal rise in its voltage, but does not reach the threshold to be classified as a spike.\n",
    "\n",
    "\\end{tcolorbox}\n",
    "    \n",
    "</span>"
   ]
  },
  {
   "cell_type": "markdown",
   "metadata": {
    "jp-MarkdownHeadingCollapsed": true,
    "tags": []
   },
   "source": [
    "### A2.2.2 Fast ramp current <a id=\"A2.2.2\"/>\n",
    "* [Go back to Q2.2.2](#Q2.2.2) "
   ]
  },
  {
   "cell_type": "code",
   "execution_count": 64,
   "metadata": {},
   "outputs": [
    {
     "data": {
      "image/png": "[encoded data removed]",
      "text/plain": [
       "<Figure size 432x288 with 3 Axes>"
      ]
     },
     "metadata": {
      "needs_background": "light"
     },
     "output_type": "display_data"
    },
    {
     "name": "stdout",
     "output_type": "stream",
     "text": [
      "voltage_fast=0.007443206417119181\n"
     ]
    }
   ],
   "source": [
    "# Enter your code below\n",
    "\n",
    "# Hint: change the unit time to 0.1ms to get a smooth ramp current. \n",
    "\n",
    "#########################\n",
    "##   Q2.2.2a solution   ##\n",
    "#########################\n",
    "\n",
    "b2.defaultclock.dt = 0.02*b2.ms\n",
    "fast_ramp_t_end = 142  # no spike. make it longer  -> voltage goes more than 10 times higher at 141\n",
    "fast_ramp_current = input_factory.get_ramp_current(5, fast_ramp_t_end, 0.1*b2.ms, 0.*b2.uA, 5*b2.uA)\n",
    "state_monitor = HH.simulate_HH_neuron(fast_ramp_current, 170 * b2.ms)\n",
    "idx_t_end = int(round(fast_ramp_t_end*0.1*b2.ms / b2.defaultclock.dt))\n",
    "voltage_fast = state_monitor.vm[0,idx_t_end]\n",
    "HH.plot_data(state_monitor, title=\"HH Neuron - fast\")\n",
    "print(f\"voltage_fast={voltage_fast}\")\n",
    "\n",
    "###########################\n",
    "##   Q2.2.2a conclusion   ##\n",
    "###########################\n",
    "\n",
    "\n",
    "# Answer in green box below"
   ]
  },
  {
   "cell_type": "markdown",
   "metadata": {},
   "source": [
    "<div class=\"alert alert-success\">\n",
    "<span style=\"color:black\">\n",
    "    \n",
    "**A2.2.2a conclusion** \n",
    "    \n",
    "\\begin{tcolorbox}[colback=green!5]\n",
    "    \n",
    "Your answer here\n",
    "\n",
    "\\end{tcolorbox}\n",
    "    \n",
    "</span>"
   ]
  },
  {
   "cell_type": "code",
   "execution_count": 23,
   "metadata": {},
   "outputs": [],
   "source": [
    "#insert your code here\n",
    "\n",
    "#########################\n",
    "##   Q2.2.2b solution  ##\n",
    "#########################\n",
    "\n",
    "\n",
    "\n",
    "###########################\n",
    "##   Q2.2.2b conclusion   ##\n",
    "###########################\n",
    "\n",
    "\n",
    "# Answer in green box below\n"
   ]
  },
  {
   "cell_type": "markdown",
   "metadata": {},
   "source": [
    "<div class=\"alert alert-success\">\n",
    "<span style=\"color:black\">\n",
    "    \n",
    "**A2.2.2b conclusion** \n",
    "    \n",
    "\\begin{tcolorbox}[colback=green!5]\n",
    "    \n",
    "The membrane voltage at the time when the current injection stops is 7mV. <br>\n",
    "\n",
    "\\end{tcolorbox}\n",
    "    \n",
    "    \n",
    "</span>"
   ]
  },
  {
   "cell_type": "markdown",
   "metadata": {
    "jp-MarkdownHeadingCollapsed": true,
    "tags": []
   },
   "source": [
    "### A2.2.3 Differences <a id=\"A2.2.3\"/>\n",
    "* [Go back to Q2.2.3](#Q2.2.3) "
   ]
  },
  {
   "cell_type": "code",
   "execution_count": 24,
   "metadata": {},
   "outputs": [],
   "source": [
    "# Enter your answer below\n",
    "\n",
    "#########################\n",
    "##   Q2.2.3 solution   ##\n",
    "#########################\n",
    "\n",
    "# Answer in green box below"
   ]
  },
  {
   "cell_type": "markdown",
   "metadata": {},
   "source": [
    "<div class=\"alert alert-success\">\n",
    "<span style=\"color:black\">\n",
    "    \n",
    "**A2.2.3 conclusion** \n",
    "    \n",
    "\\begin{tcolorbox}[colback=green!5]\n",
    "\n",
    "The final voltages for the slow ramp and the fast ramp are not significantly different, <br>\n",
    "which means that the neuron is not responding to the velocity of the input, only to its value.\n",
    "\n",
    "\\end{tcolorbox}\n",
    "    \n",
    "    \n",
    "   \n",
    "</span>"
   ]
  },
  {
   "cell_type": "markdown",
   "metadata": {
    "jp-MarkdownHeadingCollapsed": true,
    "tags": []
   },
   "source": [
    "### A2.3 Rebound spike <a id=\"A2.3\"/>\n",
    "* [Go back to Q2.3](#Q2.3) "
   ]
  },
  {
   "cell_type": "code",
   "execution_count": 25,
   "metadata": {
    "scrolled": false
   },
   "outputs": [],
   "source": [
    "# Enter your answer below\n",
    "\n",
    "#######################\n",
    "##   Q2.3 solution   ##\n",
    "#######################\n",
    "\n"
   ]
  },
  {
   "cell_type": "markdown",
   "metadata": {},
   "source": [
    "<div class=\"alert alert-success\">\n",
    "<span style=\"color:black\">\n",
    "\n",
    "**A2.3 conclusion** \n",
    "    \n",
    "\\begin{tcolorbox}[colback=green!5]\n",
    "    \n",
    "Your answer here\n",
    "\n",
    "\\end{tcolorbox}\n",
    "    \n",
    "</span>"
   ]
  },
  {
   "cell_type": "code",
   "execution_count": null,
   "metadata": {},
   "outputs": [],
   "source": []
  }
 ],
 "metadata": {
  "kernelspec": {
   "display_name": "Python 3 (ipykernel)",
   "language": "python",
   "name": "python3"
  },
  "language_info": {
   "codemirror_mode": {
    "name": "ipython",
    "version": 3
   },
   "file_extension": ".py",
   "mimetype": "text/x-python",
   "name": "python",
   "nbconvert_exporter": "python",
   "pygments_lexer": "ipython3",
   "version": "3.10.10"
  }
 },
 "nbformat": 4,
 "nbformat_minor": 4
}
